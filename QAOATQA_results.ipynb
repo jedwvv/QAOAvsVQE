{
 "cells": [
  {
   "cell_type": "code",
   "execution_count": null,
   "metadata": {},
   "outputs": [
    {
     "name": "stdout",
     "output_type": "stream",
     "text": [
      "--------------------------------------------------\n",
      "QUBO_0\n",
      "optimal function value: 41.0\n",
      "optimal value: [0. 1. 0. 0. 0. 1. 1. 0. 0.]\n",
      "status: SUCCESS\n",
      "Other ground state(s) found: '001001010'\n",
      "Other ground state(s) found: '001100001'\n",
      "Other ground state(s) found: '001100010'\n",
      "Other ground state(s) found: '010001001'\n",
      "Other ground state(s) found: '010001010'\n",
      "Other ground state(s) found: '010100001'\n",
      "Other ground state(s) found: '010100010'\n",
      "--------------------------------------------------\n",
      "Now solving with TQA_QAOA... Fourier Parametrisation: True\n",
      "--------------------------------------------------\n",
      "    p=1\n",
      "    Exp_val: 48.41013934582466, Prob_s: 0.32367469955885403, approx_ratio: 0.8192648940042766\n",
      "--------------------------------------------------\n",
      "    p=2\n",
      "    Exp_val: 43.5696600062181, Prob_s: 0.5993295706609789, approx_ratio: 0.9373253657019975\n",
      "--------------------------------------------------\n",
      "    p=3\n"
     ]
    }
   ],
   "source": [
    "%%time\n",
    "!for i in {0..10}; do python TQA_init_QAOA.py -N 3 -R 3 -M 4 -S ${i} -F -O LN_BOBYQA; done"
   ]
  },
  {
   "cell_type": "code",
   "execution_count": null,
   "metadata": {},
   "outputs": [],
   "source": []
  }
 ],
 "metadata": {
  "kernelspec": {
   "display_name": "python3.8.6",
   "language": "python",
   "name": "python3.8.6"
  },
  "language_info": {
   "codemirror_mode": {
    "name": "ipython",
    "version": 3
   },
   "file_extension": ".py",
   "mimetype": "text/x-python",
   "name": "python",
   "nbconvert_exporter": "python",
   "pygments_lexer": "ipython3",
   "version": "3.8.6"
  }
 },
 "nbformat": 4,
 "nbformat_minor": 4
}
