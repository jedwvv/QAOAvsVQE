{
 "cells": [
  {
   "cell_type": "code",
   "execution_count": null,
   "metadata": {},
   "outputs": [
    {
     "name": "stdout",
     "output_type": "stream",
     "text": [
      "--------------------------------------------------\n",
      "QUBO_0\n",
      "optimal function value: 41.0\n",
      "optimal value: [0. 1. 0. 0. 0. 1. 1. 0. 0.]\n",
      "status: SUCCESS\n",
      "Other ground state(s) found: '001001010'\n",
      "Other ground state(s) found: '001100001'\n",
      "Other ground state(s) found: '001100010'\n",
      "Other ground state(s) found: '010001001'\n",
      "Other ground state(s) found: '010001010'\n",
      "Other ground state(s) found: '010100001'\n",
      "Other ground state(s) found: '010100010'\n",
      "--------------------------------------------------\n",
      "Now solving with TQA_QAOA... Fourier Parametrisation: True\n",
      "--------------------------------------------------\n",
      "    p=1\n",
      "    Exp_val: 48.41013934582455, Prob_s: 0.32367469906024104, approx_ratio: 0.8192648940042794\n",
      "--------------------------------------------------\n",
      "    p=2\n",
      "    Exp_val: 43.569660006218044, Prob_s: 0.5993295124442121, approx_ratio: 0.937325365701999\n",
      "--------------------------------------------------\n",
      "    p=3\n",
      "    Exp_val: 41.58018978634951, Prob_s: 0.4901273599284636, approx_ratio: 0.9858490296012316\n",
      "--------------------------------------------------\n",
      "    p=4\n",
      "    Exp_val: 41.538183022110644, Prob_s: 0.514764304596233, approx_ratio: 0.9868735848265696\n",
      "--------------------------------------------------\n",
      "QAOA terminated\n",
      "--------------------------------------------------\n",
      "Approximation ratios per layer [0.8192648940042794, 0.937325365701999, 0.9858490296012316, 0.9868735848265696]\n",
      "Prob_success per layer [0.32367469906024104, 0.5993295124442121, 0.4901273599284636, 0.514764304596233]\n",
      "Results saved in results_3cars3routes/TQA_F_0.csv\n",
      "Time Taken: 1599.6316742897034\n",
      "--------------------------------------------------\n",
      "QUBO_1\n",
      "optimal function value: 39.0\n",
      "optimal value: [1. 0. 0. 0. 0. 1. 1. 0. 0.]\n",
      "status: SUCCESS\n",
      "--------------------------------------------------\n",
      "Now solving with TQA_QAOA... Fourier Parametrisation: True\n",
      "--------------------------------------------------\n",
      "    p=1\n",
      "    Exp_val: 46.078568235004326, Prob_s: 0.14433618379632587, approx_ratio: 0.8184982503845044\n",
      "--------------------------------------------------\n",
      "    p=2\n",
      "    Exp_val: 44.18504897140235, Prob_s: 0.03186813685573268, approx_ratio: 0.8670500263742986\n",
      "--------------------------------------------------\n",
      "    p=3\n"
     ]
    }
   ],
   "source": [
    "%%time\n",
    "!for i in {0..10}; do python TQA_init_QAOA.py -N 3 -R 3 -M 4 -S ${i} -F -O LN_BOBYQA; done"
   ]
  },
  {
   "cell_type": "code",
   "execution_count": null,
   "metadata": {},
   "outputs": [],
   "source": []
  }
 ],
 "metadata": {
  "kernelspec": {
   "display_name": "Python 3.9.4 64-bit ('ox': conda)",
   "language": "python",
   "name": "python394jvsc74a57bd0220bfd728d0f769ff78f0f34d2ac63fdd6f6570a6e1113d126dbe3d166926b42"
  },
  "language_info": {
   "codemirror_mode": {
    "name": "ipython",
    "version": 3
   },
   "file_extension": ".py",
   "mimetype": "text/x-python",
   "name": "python",
   "nbconvert_exporter": "python",
   "pygments_lexer": "ipython3",
   "version": "3.9.4"
  }
 },
 "nbformat": 4,
 "nbformat_minor": 4
}
