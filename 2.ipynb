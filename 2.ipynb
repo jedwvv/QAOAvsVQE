{
 "cells": [
  {
   "cell_type": "code",
   "execution_count": 14,
   "metadata": {},
   "outputs": [],
   "source": [
    "from time import time\n",
    "import warnings\n",
    "import numpy as np\n",
    "import pickle as pkl\n",
    "from parser_all import parse\n",
    "from qiskit import Aer\n",
    "from qiskit.utils.quantum_instance import QuantumInstance\n",
    "from generate_qubos import solve_classically, arr_to_str\n",
    "# from qiskit.algorithms.optimizers import COBYLA, SLSQP\n",
    "from classical_optimizers import NLOPT_Optimizer\n",
    "from QAOAEx import QAOACustom, convert_from_fourier_point, convert_to_fourier_point\n",
    "from QAOA_methods import (CustomQAOA,\n",
    "                         generate_points,\n",
    "                         get_costs,\n",
    "                         find_all_ground_states,\n",
    "                         count_coupling_terms,\n",
    "                         interp_point,\n",
    "                         construct_initial_state,\n",
    "                         n_qbit_mixer)\n",
    "from QAOAEx import convert_from_fourier_point, convert_to_fourier_point"
   ]
  },
  {
   "cell_type": "code",
   "execution_count": 16,
   "metadata": {},
   "outputs": [],
   "source": [
    "with open('qubos_{}_car_{}_routes/qubo_{}.pkl'.format(3, 3, 3), 'rb') as f:\n",
    "    qubo, max_coeff, operator, offset, routes = pkl.load(f)\n",
    "from qiskit_optimization import QuadraticProgram\n",
    "qubo = QuadraticProgram()\n",
    "qubo.from_ising(operator)\n",
    "x_s, opt_value, classical_result = find_all_ground_states(qubo)"
   ]
  },
  {
   "cell_type": "code",
   "execution_count": 17,
   "metadata": {},
   "outputs": [],
   "source": [
    "optimizer = NLOPT_Optimizer(method = \"LN_COBYLA\", result_message=False)"
   ]
  },
  {
   "cell_type": "code",
   "execution_count": 18,
   "metadata": {},
   "outputs": [],
   "source": [
    "backend = Aer.get_backend(\"statevector_simulator\")\n",
    "quantum_instance = QuantumInstance(backend = backend)"
   ]
  },
  {
   "cell_type": "code",
   "execution_count": 19,
   "metadata": {},
   "outputs": [],
   "source": [
    "initial_state = construct_initial_state(no_routes = 3, no_cars = 3)\n",
    "mixer = n_qbit_mixer(initial_state)"
   ]
  },
  {
   "cell_type": "code",
   "execution_count": 21,
   "metadata": {},
   "outputs": [],
   "source": [
    "p = 2\n",
    "fourier_point = [-0.07992929, -0.07786024,  0.45417582, -0.13951623]"
   ]
  },
  {
   "cell_type": "code",
   "execution_count": 22,
   "metadata": {},
   "outputs": [],
   "source": [
    "qaoa = QAOACustom(optimizer = optimizer, reps = p, initial_state = initial_state, mixer = mixer, initial_point = fourier_point, include_custom= True, quantum_instance = quantum_instance)\n",
    "# qaoa.set_parameterise_point_for_energy_evaluation(convert_from_fourier_point)\n",
    "# qaoa_results = qaoa.compute_minimum_eigenvalue(operator= operator)"
   ]
  },
  {
   "cell_type": "code",
   "execution_count": 26,
   "metadata": {},
   "outputs": [],
   "source": [
    "from qiskit.circuit import Parameter\n",
    "parameters = [ Parameter('u_{}'.format(i)) for i in range(p) ] + [ Parameter('v_{}'.format(i)) for i in range(p) ]\n",
    "circ = qaoa.construct_circuit(parameter=parameters, operator = operator)[0]"
   ]
  },
  {
   "cell_type": "code",
   "execution_count": 28,
   "metadata": {},
   "outputs": [],
   "source": [
    "assigned_circ = circ.assign_parameters( {  parameter: i for (i, parameter) in enumerate(parameters) })"
   ]
  },
  {
   "cell_type": "code",
   "execution_count": 30,
   "metadata": {},
   "outputs": [],
   "source": [
    "from qiskit import execute"
   ]
  },
  {
   "cell_type": "code",
   "execution_count": 31,
   "metadata": {},
   "outputs": [],
   "source": [
    "result = execute(assigned_circ, backend=backend).result()"
   ]
  },
  {
   "cell_type": "code",
   "execution_count": 32,
   "metadata": {},
   "outputs": [],
   "source": [
    "from qiskit.quantum_info import Statevector\n",
    "sv = result.get_statevector()"
   ]
  },
  {
   "cell_type": "code",
   "execution_count": 34,
   "metadata": {},
   "outputs": [
    {
     "data": {
      "text/plain": [
       "-210.58647555747623"
      ]
     },
     "execution_count": 34,
     "metadata": {},
     "output_type": "execute_result"
    }
   ],
   "source": [
    "probs = qaoa._eigenvector_to_solutions(sv, qubo)\n",
    "total = sum( [item[1]* item[2] for item in probs] )\n",
    "total"
   ]
  },
  {
   "cell_type": "code",
   "execution_count": 36,
   "metadata": {},
   "outputs": [
    {
     "data": {
      "text/plain": [
       "-210.58647555747623"
      ]
     },
     "execution_count": 36,
     "metadata": {},
     "output_type": "execute_result"
    }
   ],
   "source": [
    "sv_2 = qaoa.calculate_statevector_at_point(operator = operator, point = [0,1,2,3])\n",
    "sv_2\n",
    "probs_2 = qaoa._eigenvector_to_solutions(sv_2, qubo)\n",
    "total_2 = sum( [item[1] * item[2] for item in probs_2] )\n",
    "total_2"
   ]
  },
  {
   "cell_type": "code",
   "execution_count": 39,
   "metadata": {},
   "outputs": [],
   "source": [
    "qaoa.reset_reps(4)"
   ]
  },
  {
   "cell_type": "code",
   "execution_count": 46,
   "metadata": {},
   "outputs": [
    {
     "name": "stdout",
     "output_type": "stream",
     "text": [
      "CPU times: user 14 s, sys: 1.27 s, total: 15.3 s\n",
      "Wall time: 17.2 s\n"
     ]
    }
   ],
   "source": [
    "%%time\n",
    "qaoa.set_parameterise_point_for_energy_evaluation(convert_from_fourier_point)\n",
    "for set_parameterise_point_for_energy_evaluation_ in range(20):\n",
    "    e = qaoa.evaluate_energy_at_point(operator = operator, point = [-0.0639487, -0.07643202, 0.0395166, -0.03228677, 0.49944737, 0.07051154, 0.08479134, -0.12322544])"
   ]
  },
  {
   "cell_type": "code",
   "execution_count": 258,
   "metadata": {},
   "outputs": [
    {
     "data": {
      "text/plain": [
       "0.9999944403978153"
      ]
     },
     "execution_count": 258,
     "metadata": {},
     "output_type": "execute_result"
    }
   ],
   "source": [
    "probs_2 = qaoa._eigenvector_to_solutions(state, qubo)\n",
    "sorted(probs_2, key = lambda x: x[2], reverse= True)"
   ]
  },
  {
   "cell_type": "code",
   "execution_count": 12,
   "metadata": {},
   "outputs": [
    {
     "name": "stdout",
     "output_type": "stream",
     "text": [
      "--------------------------------------------------\n",
      "QUBO_0\n",
      "optimal function value: -140.0\n",
      "optimal value: [0. 1. 0. 0. 0. 1. 1. 0. 0.]\n",
      "status: SUCCESS\n",
      "Other ground state(s) found: '001001010'\n",
      "Other ground state(s) found: '001100001'\n",
      "Other ground state(s) found: '001100010'\n",
      "Other ground state(s) found: '010001001'\n",
      "Other ground state(s) found: '010001010'\n",
      "Other ground state(s) found: '010100001'\n",
      "Other ground state(s) found: '010100010'\n",
      "--------------------------------------------------\n",
      "Now solving with TQA_QAOA... Fourier Parametrisation: True\n",
      "--------------------------------------------------\n",
      "    p=1\n",
      "('001100001', (-140.0, 0.038339170884521906))\n",
      "('001001001', (-140.0, 0.03876357985428722))\n",
      "('010100001', (-140.0, 0.038858258009332694))\n",
      "('001100010', (-140.0, 0.038931791056402994))\n",
      "('010001001', (-140.0, 0.03930725219517446))\n",
      "    Optimal_point: [0.3844230416503986, 0.0401739087878706]\n",
      "    Exp_val: -132.58986065417534, Prob_s: 0.0391404356883734, approx_ratio: 0.9470704332441096\n",
      "--------------------------------------------------\n",
      "    p=2\n",
      "^C\n",
      "Traceback (most recent call last):\n",
      "  File \"TQA_init_QAOA.py\", line 124, in <module>\n",
      "    main()\n",
      "  File \"TQA_init_QAOA.py\", line 78, in main\n",
      "    qaoa_results, optimal_circ = CustomQAOA(operator,\n",
      "  File \"/home/jvillanueva/QAOAvsVQE/QAOA_methods.py\", line 35, in CustomQAOA\n",
      "    result = qaoa_instance.solve(operator, point, bounds=bounds)\n",
      "  File \"/home/jvillanueva/QAOAvsVQE/QAOAEx.py\", line 982, in solve\n",
      "    return self.compute_minimum_eigenvalue(ising_hamiltonian_operator)\n",
      "  File \"/home/jvillanueva/venv1/python3.8.6/lib/python3.8/site-packages/qiskit/algorithms/minimum_eigen_solvers/vqe.py\", line 412, in compute_minimum_eigenvalue\n",
      "    vqresult = self.find_minimum(initial_point=self.initial_point,\n",
      "  File \"/home/jvillanueva/QAOAvsVQE/QAOAEx.py\", line 619, in find_minimum\n",
      "    opt_params, opt_val, num_optimizer_evals = optimizer.optimize(len(self.initial_point),\n",
      "  File \"/home/jvillanueva/QAOAvsVQE/classical_optimizers.py\", line 412, in optimize\n",
      "    res = nlopt_minimize(objective_function,\n",
      "  File \"/home/jvillanueva/QAOAvsVQE/classical_optimizers.py\", line 163, in nlopt_minimize\n",
      "    x = opt.optimize(x0)\n",
      "  File \"/home/jvillanueva/venv1/python3.8.6/lib/python3.8/site-packages/nlopt/nlopt.py\", line 334, in optimize\n",
      "    return _nlopt.opt_optimize(self, *args)\n",
      "  File \"/home/jvillanueva/QAOAvsVQE/classical_optimizers.py\", line 201, in nlopt_fun\n",
      "    ret = fun(x, *args)\n",
      "  File \"/home/jvillanueva/QAOAvsVQE/QAOAEx.py\", line 724, in _energy_evaluation\n",
      "    sampled_expect_op = self._circuit_sampler.convert(self._expect_op, params=param_bindings)\n",
      "  File \"/home/jvillanueva/venv1/python3.8.6/lib/python3.8/site-packages/qiskit/opflow/converters/circuit_sampler.py\", line 207, in convert\n",
      "    sampled_statefn_dicts = self.sample_circuits(circuit_sfns=circs,\n",
      "  File \"/home/jvillanueva/QAOAvsVQE/QAOAEx.py\", line 252, in sample_circuits\n",
      "    ready_circs = self._prepare_parameterized_run_config(param_bindings)\n",
      "  File \"/home/jvillanueva/venv1/python3.8.6/lib/python3.8/site-packages/qiskit/opflow/converters/circuit_sampler.py\", line 402, in _prepare_parameterized_run_config\n",
      "    self._build_aer_params(circ, building_param_tables, param_binding)\n",
      "  File \"/home/jvillanueva/venv1/python3.8.6/lib/python3.8/site-packages/qiskit/opflow/converters/circuit_sampler.py\", line 374, in _build_aer_params\n",
      "    val = resolve_param(inst_param)\n",
      "  File \"/home/jvillanueva/venv1/python3.8.6/lib/python3.8/site-packages/qiskit/opflow/converters/circuit_sampler.py\", line 368, in resolve_param\n",
      "    return float(inst_param.bind(param_mappings))\n",
      "  File \"/home/jvillanueva/venv1/python3.8.6/lib/python3.8/site-packages/qiskit/circuit/parameterexpression.py\", line 99, in bind\n",
      "    bound_symbol_expr = self._symbol_expr.subs(symbol_values)\n",
      "  File \"/home/jvillanueva/venv1/python3.8.6/lib/python3.8/site-packages/sympy/core/basic.py\", line 948, in subs\n",
      "    rv = rv._subs(old, new, **kwargs)\n",
      "  File \"/home/jvillanueva/venv1/python3.8.6/lib/python3.8/site-packages/sympy/core/cache.py\", line 72, in wrapper\n",
      "    retval = cfunc(*args, **kwargs)\n",
      "  File \"/home/jvillanueva/venv1/python3.8.6/lib/python3.8/site-packages/sympy/core/basic.py\", line 1062, in _subs\n",
      "    rv = fallback(self, old, new)\n",
      "  File \"/home/jvillanueva/venv1/python3.8.6/lib/python3.8/site-packages/sympy/core/basic.py\", line 1034, in fallback\n",
      "    arg = arg._subs(old, new, **hints)\n",
      "  File \"/home/jvillanueva/venv1/python3.8.6/lib/python3.8/site-packages/sympy/core/cache.py\", line 72, in wrapper\n",
      "    retval = cfunc(*args, **kwargs)\n",
      "  File \"/home/jvillanueva/venv1/python3.8.6/lib/python3.8/site-packages/sympy/core/basic.py\", line 1060, in _subs\n",
      "    rv = self._eval_subs(old, new)\n",
      "  File \"/home/jvillanueva/venv1/python3.8.6/lib/python3.8/site-packages/sympy/core/numbers.py\", line 711, in _eval_subs\n",
      "    if old == -self:\n",
      "  File \"/home/jvillanueva/venv1/python3.8.6/lib/python3.8/site-packages/sympy/core/numbers.py\", line 1300, in __neg__\n",
      "    return Float._new(mlib.mpf_neg(self._mpf_), self._prec)\n",
      "  File \"/home/jvillanueva/venv1/python3.8.6/lib/python3.8/site-packages/sympy/core/numbers.py\", line 1215, in _new\n",
      "    obj._mpf_ = mpf_norm(_mpf_, _prec)\n",
      "  File \"/home/jvillanueva/venv1/python3.8.6/lib/python3.8/site-packages/sympy/core/numbers.py\", line 175, in mpf_norm\n",
      "    rv = mpf_normalize(sign, MPZ(man), expt, bc, prec, rnd)\n",
      "  File \"/home/jvillanueva/venv1/python3.8.6/lib/python3.8/site-packages/mpmath/libmp/libmpf.py\", line 189, in _normalize\n",
      "    if not man & 1:\n",
      "KeyboardInterrupt\n",
      "CPU times: user 137 ms, sys: 25 ms, total: 162 ms\n",
      "Wall time: 26.5 s\n"
     ]
    }
   ],
   "source": [
    "%%time\n",
    "!for i in {0..10}; do python TQA_init_QAOA.py -N 3 -R 3 -M 4 -S ${i} -F -O LN_BOBYQA; done"
   ]
  },
  {
   "cell_type": "code",
   "execution_count": null,
   "metadata": {},
   "outputs": [],
   "source": []
  }
 ],
 "metadata": {
  "interpreter": {
   "hash": "220bfd728d0f769ff78f0f34d2ac63fdd6f6570a6e1113d126dbe3d166926b42"
  },
  "kernelspec": {
   "display_name": "python3.8.6",
   "language": "python",
   "name": "python3.8.6"
  },
  "language_info": {
   "codemirror_mode": {
    "name": "ipython",
    "version": 3
   },
   "file_extension": ".py",
   "mimetype": "text/x-python",
   "name": "python",
   "nbconvert_exporter": "python",
   "pygments_lexer": "ipython3",
   "version": "3.8.6"
  }
 },
 "nbformat": 4,
 "nbformat_minor": 4
}
