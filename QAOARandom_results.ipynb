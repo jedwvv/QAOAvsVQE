{
 "cells": [
  {
   "cell_type": "code",
   "execution_count": 9,
   "metadata": {},
   "outputs": [
    {
     "name": "stdout",
     "output_type": "stream",
     "text": [
      "--------------------------------------------------\n",
      "QUBO_0\n",
      "optimal function value: 41.0\n",
      "optimal value: [0. 1. 0. 0. 0. 1. 1. 0. 0.]\n",
      "status: SUCCESS\n",
      "Other ground state(s) found: '001001010'\n",
      "Other ground state(s) found: '001100001'\n",
      "Other ground state(s) found: '001100010'\n",
      "Other ground state(s) found: '010001001'\n",
      "Other ground state(s) found: '010001010'\n",
      "Other ground state(s) found: '010100001'\n",
      "Other ground state(s) found: '010100010'\n",
      "--------------------------------------------------\n",
      "Now solving with QAOA... Fourier Parametrisation: True\n",
      "--------------------------------------------------\n",
      "    p=1\n",
      "    Point_0, Exp_val: 48.641728718649915, Prob_s: 0.3203453109371593\n",
      "    Point_1, Exp_val: 48.641728718649944, Prob_s: 0.32034535654955476\n",
      "    Point_2, Exp_val: 46.625623854562974, Prob_s: 0.5513156525613154\n",
      "    Minimum: 46.625623854562974, prob_s: 0.5513156525613154, approx_ratio 0.8627896620838299\n",
      "--------------------------------------------------\n",
      "    p=2\n",
      "    Point_0, Exp_val: 47.17525070637845, Prob_s: 0.48179558122176736\n",
      "    Point_1, Exp_val: 52.11733834163198, Prob_s: 0.13627002172343614\n",
      "    Point_2, Exp_val: 116.93089515261593, Prob_s: 0.052492853053823806\n",
      "    Point_3, Exp_val: 47.99645851488927, Prob_s: 0.2374947446225788\n",
      "    Point_4, Exp_val: 45.80124348185316, Prob_s: 0.4165206581527889\n",
      "    Minimum: 45.80124348185316, prob_s: 0.4165206581527889, approx_ratio 0.8828965004426058\n",
      "--------------------------------------------------\n",
      "    p=3\n",
      "    Point_0, Exp_val: 47.77993041798038, Prob_s: 0.14326480961412158\n",
      "    Point_1, Exp_val: 46.70656302067022, Prob_s: 0.16308308275161845\n",
      "    Point_2, Exp_val: 94.53362673174416, Prob_s: 0.02942204107231972\n",
      "^C\n",
      "Traceback (most recent call last):\n",
      "  File \"random_init_QAOA.py\", line 135, in <module>\n",
      "    main()\n",
      "  File \"random_init_QAOA.py\", line 77, in main\n",
      "    qaoa_results, optimal_circ = CustomQAOA(operator,\n",
      "  File \"/home/jvillanueva/QAOAvsVQE/QAOA_methods.py\", line 43, in CustomQAOA\n",
      "    qaoa_results = qaoa_instance.solve(operator, initial_point, bounds=bounds)\n",
      "  File \"/home/jvillanueva/QAOAvsVQE/QAOAEx.py\", line 982, in solve\n",
      "    return self.compute_minimum_eigenvalue(ising_hamiltonian_operator)\n",
      "  File \"/home/jvillanueva/venv1/python3.8.6/lib/python3.8/site-packages/qiskit/algorithms/minimum_eigen_solvers/vqe.py\", line 412, in compute_minimum_eigenvalue\n",
      "    vqresult = self.find_minimum(initial_point=self.initial_point,\n",
      "  File \"/home/jvillanueva/QAOAvsVQE/QAOAEx.py\", line 619, in find_minimum\n",
      "    opt_params, opt_val, num_optimizer_evals = optimizer.optimize(len(self.initial_point),\n",
      "  File \"/home/jvillanueva/QAOAvsVQE/classical_optimizers.py\", line 412, in optimize\n",
      "    res = nlopt_minimize(objective_function,\n",
      "  File \"/home/jvillanueva/QAOAvsVQE/classical_optimizers.py\", line 163, in nlopt_minimize\n",
      "    x = opt.optimize(x0)\n",
      "  File \"/home/jvillanueva/venv1/python3.8.6/lib/python3.8/site-packages/nlopt/nlopt.py\", line 334, in optimize\n",
      "    return _nlopt.opt_optimize(self, *args)\n",
      "  File \"/home/jvillanueva/QAOAvsVQE/classical_optimizers.py\", line 201, in nlopt_fun\n",
      "    ret = fun(x, *args)\n",
      "  File \"/home/jvillanueva/QAOAvsVQE/QAOAEx.py\", line 724, in _energy_evaluation\n",
      "    sampled_expect_op = self._circuit_sampler.convert(self._expect_op, params=param_bindings)\n",
      "  File \"/home/jvillanueva/venv1/python3.8.6/lib/python3.8/site-packages/qiskit/opflow/converters/circuit_sampler.py\", line 207, in convert\n",
      "    sampled_statefn_dicts = self.sample_circuits(circuit_sfns=circs,\n",
      "  File \"/home/jvillanueva/QAOAvsVQE/QAOAEx.py\", line 309, in sample_circuits\n",
      "    counts_dicts.append(Statevector(results.get_statevector(circ_index)).sample_counts(shots))\n",
      "  File \"/home/jvillanueva/venv1/python3.8.6/lib/python3.8/site-packages/qiskit/quantum_info/states/quantum_state.py\", line 297, in sample_counts\n",
      "    samples = self.sample_memory(shots, qargs=qargs)\n",
      "  File \"/home/jvillanueva/venv1/python3.8.6/lib/python3.8/site-packages/qiskit/quantum_info/states/quantum_state.py\", line 270, in sample_memory\n",
      "    labels = self._index_to_ket_array(\n",
      "  File \"/home/jvillanueva/venv1/python3.8.6/lib/python3.8/site-packages/qiskit/quantum_info/states/quantum_state.py\", line 364, in _index_to_ket_array\n",
      "    char_kets = np.asarray(kets, dtype=np.unicode_)\n",
      "  File \"/home/jvillanueva/venv1/python3.8.6/lib/python3.8/site-packages/numpy/core/_asarray.py\", line 102, in asarray\n",
      "    return array(a, dtype, copy=False, order=order)\n",
      "KeyboardInterrupt\n",
      "CPU times: user 3.44 s, sys: 376 ms, total: 3.82 s\n",
      "Wall time: 7min 47s\n"
     ]
    }
   ],
   "source": [
    "%%time\n",
    "!for i in {0..10}; do python random_init_QAOA.py -N 3 -R 3 -M 4 -S ${i} -F -O LN_BOBYQA; done"
   ]
  },
  {
   "cell_type": "code",
   "execution_count": null,
   "metadata": {},
   "outputs": [],
   "source": []
  }
 ],
 "metadata": {
  "kernelspec": {
   "display_name": "python3.8.6",
   "language": "python",
   "name": "python3.8.6"
  },
  "language_info": {
   "codemirror_mode": {
    "name": "ipython",
    "version": 3
   },
   "file_extension": ".py",
   "mimetype": "text/x-python",
   "name": "python",
   "nbconvert_exporter": "python",
   "pygments_lexer": "ipython3",
   "version": "3.8.6"
  }
 },
 "nbformat": 4,
 "nbformat_minor": 4
}
